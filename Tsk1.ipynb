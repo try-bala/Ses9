{
 "cells": [
  {
   "cell_type": "markdown",
   "metadata": {},
   "source": [
    "##### 1. You survey households in your area to find the average rent they are paying. Find the standard deviation from the following data:\n",
    " $1550, $1700, $900, $850, $1000, $950"
   ]
  },
  {
   "cell_type": "code",
   "execution_count": 2,
   "metadata": {},
   "outputs": [
    {
     "name": "stdout",
     "output_type": "stream",
     "text": [
      "Average rent : $1158.3333333333333\n",
      "Standard deviation : 335.92740617910624\n"
     ]
    }
   ],
   "source": [
    "rent = [1550,1700,900,850,1000,950]\n",
    "\n",
    "def getMean(arr):\n",
    "    return sum(arr)/len(arr)\n",
    "\n",
    "def getVariance(arr):\n",
    "    mean = getMean(arr)\n",
    "    variance = sum([(mean-x)**2 for x in arr])/len(arr)\n",
    "    return variance\n",
    "\n",
    "def getStandardDeviation(arr):\n",
    "    return (getVariance(arr)**0.5)\n",
    "\n",
    "print(\"Average rent : $\" + str(getMean(rent)))\n",
    "print(\"Standard deviation : \" + str(getStandardDeviation(rent)))"
   ]
  },
  {
   "cell_type": "markdown",
   "metadata": {},
   "source": [
    "\n",
    "\n"
   ]
  },
  {
   "cell_type": "markdown",
   "metadata": {},
   "source": [
    "##### 2. Find the variance for the following set of data representing trees in California (heights in feet):\n",
    "$ 3, 21, 98, 203, 17, 9 $"
   ]
  },
  {
   "cell_type": "code",
   "execution_count": 47,
   "metadata": {},
   "outputs": [
    {
     "name": "stdout",
     "output_type": "stream",
     "text": [
      "Variance of trees heights in feet - 6219.9\n"
     ]
    }
   ],
   "source": [
    "import statistics as stat\n",
    "\n",
    "arr = [3,21,98,203,17,9]\n",
    "\n",
    "print(\"Variance of trees heights in feet - \" + str(stat.variance(arr)))"
   ]
  },
  {
   "cell_type": "markdown",
   "metadata": {},
   "source": [
    "\n",
    "\n"
   ]
  },
  {
   "cell_type": "markdown",
   "metadata": {},
   "source": [
    "##### 3. In a class on 100 students, 80 students passed in all subjects, 10 failed in one subject, 7 failed in two subjects and 3 failed in three subjects. Find the probability distribution of the variable for number of subjects a student from the given class has failed in."
   ]
  },
  {
   "cell_type": "markdown",
   "metadata": {},
   "source": [
    "For a random student, \n",
    "\n",
    "The probability of failing in 0 subjects, P(X=0) = 80/100 = 0.8\n",
    "\n",
    "The probability of failing in 1 subjects, P(X=1) = 10/100 = 0.1\n",
    "\n",
    "The probability of failing in 2 subjects, P(X=2) = 7/100 = 0.07\n",
    "\n",
    "The probability of failing in 3 subjects, P(X=3) = 3/100 = 0.03\n",
    "\n",
    "The probability distribution can be shown as:\n",
    "\n",
    " \n",
    " |X|0|1|2|3|\n",
    " |---|---|---|---|---|\n",
    " |P(X)|0.8|0.1|0.07|0.03|"
   ]
  }
 ],
 "metadata": {
  "kernelspec": {
   "display_name": "Python 3",
   "language": "python",
   "name": "python3"
  },
  "language_info": {
   "codemirror_mode": {
    "name": "ipython",
    "version": 3
   },
   "file_extension": ".py",
   "mimetype": "text/x-python",
   "name": "python",
   "nbconvert_exporter": "python",
   "pygments_lexer": "ipython3",
   "version": "3.6.5"
  }
 },
 "nbformat": 4,
 "nbformat_minor": 2
}
